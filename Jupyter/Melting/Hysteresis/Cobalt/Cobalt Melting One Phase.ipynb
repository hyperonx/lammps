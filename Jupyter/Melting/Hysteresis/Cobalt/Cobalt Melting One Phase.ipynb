{
 "cells": [
  {
   "cell_type": "code",
   "execution_count": 92,
   "metadata": {},
   "outputs": [],
   "source": [
    "import pandas as pd\n",
    "import matplotlib.pyplot as plt\n",
    "# from matplotlib import rc\n",
    "import seaborn as sns\n",
    "import os\n",
    "# %matplotlib inline\n",
    "# rc('text', usetex=True)\n",
    "# %matplotlib widget\n",
    "# sns.set()\n",
    "import json\n",
    "# plt.style.use('ggplot')\n",
    "# plt.rcParamas[]\n",
    "# plt.rcParams['figure.figsize'] = [11.8, 7]\n",
    "# plt.rcParams[\"font.size\"]=13\n",
    "# plt.rcParams[\"font.weight\"]=\"bold\"\n",
    "# print(plt.rcParams.keys())\n",
    "# import mplcursors\n",
    "# %matplotlib nbagg\n",
    "# %pylab\n",
    "# mplcursors.cursor(hover=True)\n",
    "# sns.set_style(\"white\")\n",
    "s = json.load( open(\"custom.json\"))  #edit path to json file\\n\",\n",
    "plt.rcParams.update(s)"
   ]
  },
  {
   "cell_type": "code",
   "execution_count": null,
   "metadata": {},
   "outputs": [],
   "source": []
  },
  {
   "cell_type": "code",
   "execution_count": 93,
   "metadata": {},
   "outputs": [],
   "source": [
    "columns =['step', 'temp','press','pressGiga','vol','ke','pe','density']\n",
    "# columns_ = ['step', 'temp','press','vol','ke','pe','density','cpu','cpuremain']\n",
    "# def last_4chars(x):\n",
    "#     return(x[-4:])"
   ]
  },
  {
   "cell_type": "code",
   "execution_count": 94,
   "metadata": {
    "scrolled": false
   },
   "outputs": [],
   "source": [
    "temp_heat = []; temp_cool =[]\n",
    "vol_heat = []; vol_cool = []\n",
    "for dirpath, dirnames, filenames in sorted(os.walk(os.getcwd())):\n",
    "#for dirpath, dirnames, filenames in sorted(os.walk('Saroj')):\n",
    "    filenames.sort()\n",
    "    for file in sorted(filenames, key = len):\n",
    "            if file.endswith('.txt'):\n",
    "                if file.startswith('one_phase_heating'):\n",
    "#                     print(file)\n",
    "#                 display(file)\n",
    "                    df = pd.read_csv(file, header=None, skiprows = 1, delimiter =\"\\s+\" , names = columns)\n",
    "                    temp_heat.append(df.temp.mean())\n",
    "                    vol_heat.append(df.vol.mean())\n",
    "#                     display(df.describe())\n",
    "                else:\n",
    "#                     print(file)\n",
    "#                     if file.startswith('cool'):\n",
    "                    df = pd.read_csv(file, header=None, skiprows = 1, delimiter =\"\\s+\")\n",
    "                    if df.shape[1] == 8:\n",
    "                        df.columns = columns\n",
    "                    else: \n",
    "                        df.columns = columns_\n",
    "                    temp_cool.append(df.temp.mean()) \n",
    "                    \n",
    "                    vol_cool.append(df.vol.mean())\n",
    "#                     display(df.describe())\n",
    "# df_bcc = pd.read_csv(file_bcc, header=None, skiprows = 0, delimiter =\"\\s+\" , names = columns)\n",
    "# mn_row_fcc = df_fcc[df_fcc[\"Cohesive Energy\"]==df_fcc[\"Cohesive Energy\"].min()]\n",
    "# mn_row_bcc = df_bcc[df_bcc[\"Cohesive Energy\"]==df_bcc[\"Cohesive Energy\"].min()]\n",
    "\n",
    "# print(float(mn_row[\"a\"]))\n",
    "# print(df.loc[df[df[\"Cohesive Energy\"]==df[\"Cohesive Energy\"].min()].index][\"a\"])\n",
    "# cor = df.index.value()\n",
    "# print(cor)\n",
    "temp_heat.sort()\n",
    "temp_cool.sort()\n",
    "vol_heat.sort()\n",
    "vol_cool.sort()"
   ]
  },
  {
   "cell_type": "code",
   "execution_count": 95,
   "metadata": {},
   "outputs": [
    {
     "data": {
      "text/plain": [
       "(2097.9858388885586, 24252.61220587944)"
      ]
     },
     "metadata": {},
     "output_type": "display_data"
    },
    {
     "data": {
      "text/plain": [
       "(2203.3530230780016, 24380.457410789924)"
      ]
     },
     "metadata": {},
     "output_type": "display_data"
    },
    {
     "data": {
      "text/plain": [
       "(2301.292643019992, 24548.344951284333)"
      ]
     },
     "metadata": {},
     "output_type": "display_data"
    },
    {
     "data": {
      "text/plain": [
       "(2358.958209246233, 25603.78060602867)"
      ]
     },
     "metadata": {},
     "output_type": "display_data"
    },
    {
     "data": {
      "text/plain": [
       "(2410.108456733631, 25693.670422752297)"
      ]
     },
     "metadata": {},
     "output_type": "display_data"
    },
    {
     "data": {
      "text/plain": [
       "(2500.46469013813, 25816.687095776)"
      ]
     },
     "metadata": {},
     "output_type": "display_data"
    },
    {
     "data": {
      "text/plain": [
       "(2602.517011155172, 25955.895752571752)"
      ]
     },
     "metadata": {},
     "output_type": "display_data"
    }
   ],
   "source": [
    "display(*zip(temp_heat,vol_heat))\n"
   ]
  },
  {
   "cell_type": "code",
   "execution_count": 96,
   "metadata": {},
   "outputs": [
    {
     "data": {
      "text/plain": [
       "(1100.3474661835946, 23199.029968020255)"
      ]
     },
     "metadata": {},
     "output_type": "display_data"
    },
    {
     "data": {
      "text/plain": [
       "(1197.514468809316, 23291.91855645714)"
      ]
     },
     "metadata": {},
     "output_type": "display_data"
    },
    {
     "data": {
      "text/plain": [
       "(1292.7284207922814, 23422.145534186806)"
      ]
     },
     "metadata": {},
     "output_type": "display_data"
    },
    {
     "data": {
      "text/plain": [
       "(1355.4535366970363, 24124.121764366195)"
      ]
     },
     "metadata": {},
     "output_type": "display_data"
    },
    {
     "data": {
      "text/plain": [
       "(1398.0062598078214, 24189.63073439842)"
      ]
     },
     "metadata": {},
     "output_type": "display_data"
    },
    {
     "data": {
      "text/plain": [
       "(1503.7221600184887, 24353.960653650327)"
      ]
     },
     "metadata": {},
     "output_type": "display_data"
    },
    {
     "data": {
      "text/plain": [
       "(1601.593000488384, 24504.50201758383)"
      ]
     },
     "metadata": {},
     "output_type": "display_data"
    }
   ],
   "source": [
    "display(*zip(temp_cool,vol_cool))"
   ]
  },
  {
   "cell_type": "code",
   "execution_count": 97,
   "metadata": {
    "scrolled": false
   },
   "outputs": [
    {
     "data": {
      "image/png": "[encoded data removed]",
      "text/plain": [
       "<Figure size 849.6x504 with 1 Axes>"
      ]
     },
     "metadata": {},
     "output_type": "display_data"
    }
   ],
   "source": [
    "# temp.sort()\n",
    "# vol.sort()\n",
    "# %pylab\n",
    "# print(temp)\n",
    "plt.plot(temp_heat, vol_heat, color =\"r\", marker =\"^\", label=\"Heating\")\n",
    "plt.plot(temp_cool, vol_cool, color =\"b\", marker =\"s\",label=\"Cooling\")\n",
    "# plt.xlim([0,2800])\n",
    "# plt.title('$Melting \\;Temperature\\; of\\; Co=2100+1195-\\sqrt{2100*1195} = 1710.86 K$')\n",
    "# # plt.title(f'$\\mu_P={df.iloc[df[\"Cohesive Energy\"]][\"a\"]},E_c={df[\"Cohesive Energy\"]}$')\n",
    "# plt.xticks(range(0,2800,250),rotation=90)\n",
    "plt.xticks(range(0,2800,250))\n",
    "plt.ylabel(\"Volume (A$^3)$\")\n",
    "plt.xlabel(\"Temperature (K)\")\n",
    "# plt.tight_layout()\n",
    "plt.legend()\n",
    "\n",
    "# plt.annotate()\n",
    "# plt.annotate()\n",
    "# # plt.xticks(rotation=90)\n",
    "# plt.annotate(r'T$_-= 1249 \\;$K', xy=(1245, 24950),xytext=(700, 25800),color=\"black\",\n",
    "#             arrowprops=dict(arrowstyle=\"fancy\",\n",
    "# #                              ec=\"none\",\n",
    "# #                             patchB=el,\n",
    "#                             connectionstyle=\"angle3,angleA=0,angleB=-90\",color=\"b\"));\n",
    "# plt.annotate(r'T$_+=2102 \\;$K', xy=(2100, 25180),xytext=(2250, 24100),color=\"black\",\n",
    "#             arrowprops=dict(arrowstyle=\"fancy\",\n",
    "# #                              ec=\"none\",\n",
    "# #                             patchB=el,\n",
    "#                             connectionstyle=\"angle3,angleA=0,angleB=-90\",color=\"r\"));\n",
    "# mplcursors.cursor(hover=True)\n",
    "plt.savefig(\"onephase_volume.png\",dpi=110)\n",
    "plt.show()"
   ]
  },
  {
   "cell_type": "code",
   "execution_count": 98,
   "metadata": {},
   "outputs": [],
   "source": [
    "#  \tstep \ttemp \tpress \tvol \tke \tpe \tdensity\n",
    "# count \t1.010000e+02 \t101.000000 \t101.000000 \t101.000000 \t101.000000 \t101.000000 \t101.000000\n",
    "# mean \t4.100000e+06 \t1302.393436 \t-183.712991 \t8987.367005 \t115.318082 \t-2796.943455 \t5.430793\n",
    "# std \t2.930017e+04 \t40.154300 \t5236.967495 \t48.009311 \t3.555390 \t5.238488 \t0.029002\n",
    "# min \t4.050000e+06 \t1218.653332 \t-14633.214207 \t8869.623325 \t107.903465 \t-2811.858675 \t5.355323\n",
    "# 25% \t4.075000e+06 \t1267.681441 \t-3996.367876 \t8956.064004 \t112.244570 \t-2800.528772 \t5.409587\n",
    "# 50% \t4.100000e+06 \t1308.265188 \t712.416964 \t8983.987137 \t115.837985 \t-2798.144637 \t5.432683\n",
    "# 75% \t4.125000e+06 \t1328.003546 \t3406.694788 \t9022.342655 \t117.585683 \t-2792.967146 \t5.449621\n",
    "# max \t4.150000e+06 \t1397.815601 \t13368.865296 \t9113.764764 \t123.767065 \t-2783.157257 \t5.502731"
   ]
  },
  {
   "cell_type": "code",
   "execution_count": null,
   "metadata": {},
   "outputs": [],
   "source": []
  },
  {
   "cell_type": "code",
   "execution_count": null,
   "metadata": {},
   "outputs": [],
   "source": []
  },
  {
   "cell_type": "code",
   "execution_count": null,
   "metadata": {},
   "outputs": [],
   "source": []
  }
 ],
 "metadata": {
  "kernelspec": {
   "display_name": "Python 3.8.1",
   "language": "python",
   "name": "python38164bit7fa70e9160ed44389282474b5725742a"
  },
  "language_info": {
   "codemirror_mode": {
    "name": "ipython",
    "version": 3
   },
   "file_extension": ".py",
   "mimetype": "text/x-python",
   "name": "python",
   "nbconvert_exporter": "python",
   "pygments_lexer": "ipython3",
   "version": "3.8.3"
  }
 },
 "nbformat": 4,
 "nbformat_minor": 4
}
