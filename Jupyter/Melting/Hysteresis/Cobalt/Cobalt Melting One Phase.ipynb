{
 "cells": [
  {
   "cell_type": "code",
   "execution_count": 630,
   "metadata": {},
   "outputs": [],
   "source": [
    "import pandas as pd\n",
    "import matplotlib.pyplot as plt\n",
    "# from matplotlib import rc\n",
    "import seaborn as sns\n",
    "import os\n",
    "import glob\n",
    "# %matplotlib inline\n",
    "# rc('text', usetex=True)\n",
    "# %matplotlib widget\n",
    "# sns.set()\n",
    "import json\n",
    "# plt.style.use('ggplot')\n",
    "# plt.rcParamas[]\n",
    "# plt.rcParams['figure.figsize'] = [11.8, 7]\n",
    "# plt.rcParams[\"font.size\"]=13\n",
    "# plt.rcParams[\"font.weight\"]=\"bold\"\n",
    "# print(plt.rcParams.keys())\n",
    "# import mplcursors\n",
    "# %matplotlib nbagg\n",
    "# %pylab\n",
    "# mplcursors.cursor(hover=True)\n",
    "# sns.set_style(\"white\")\n",
    "s = json.load( open(\"custom.json\"))  #edit path to json file\\n\",\n",
    "plt.rcParams.update(s)"
   ]
  },
  {
   "cell_type": "code",
   "execution_count": 631,
   "metadata": {},
   "outputs": [],
   "source": [
    "# dir = r\"E:\\Documents\\Research\\Molecular Dynamics\\Code\\GitHub\\LAMMPS\\Melting\\One Phase [Hystersis Method]\\Cobalt\\Working\\Temp\"\n",
    "dir =\"E:\\\\Documents\\\\Research\\\\Molecular Dynamics\\\\Code\\\\GitHub\\\\LAMMPS\\\\Melting\\\\One Phase [Hystersis Method]\\\\Cobalt\\\\Final\\\\250KEqr+50KPr+8x8x8\\\\100 GPa\\\\\""
   ]
  },
  {
   "cell_type": "code",
   "execution_count": 632,
   "metadata": {},
   "outputs": [],
   "source": [
    "columns =['step', 'temp','press','pressGiga','vol','ke','pe','density']\n",
    "# columns_ = ['step', 'temp','press','vol','ke','pe','density','cpu','cpuremain']\n",
    "# def last_4chars(x):\n",
    "#     return(x[-4:])"
   ]
  },
  {
   "cell_type": "code",
   "execution_count": 633,
   "metadata": {
    "scrolled": false
   },
   "outputs": [
    {
     "name": "stdout",
     "output_type": "stream",
     "text": [
      "E:\\Documents\\Research\\Molecular Dynamics\\Code\\GitHub\\LAMMPS\\Melting\\One Phase [Hystersis Method]\\Cobalt\\Final\\250KEqr+50KPr+8x8x8\\100 GPa\\Cooling\\Old\\one_phase_cooling_press_1000000_2850_.txt\n",
      "E:\\Documents\\Research\\Molecular Dynamics\\Code\\GitHub\\LAMMPS\\Melting\\One Phase [Hystersis Method]\\Cobalt\\Final\\250KEqr+50KPr+8x8x8\\100 GPa\\Cooling\\Old\\one_phase_cooling_press_1000000_2900_.txt\n",
      "E:\\Documents\\Research\\Molecular Dynamics\\Code\\GitHub\\LAMMPS\\Melting\\One Phase [Hystersis Method]\\Cobalt\\Final\\250KEqr+50KPr+8x8x8\\100 GPa\\Cooling\\Old\\one_phase_cooling_press_1000000_3000_.txt\n",
      "E:\\Documents\\Research\\Molecular Dynamics\\Code\\GitHub\\LAMMPS\\Melting\\One Phase [Hystersis Method]\\Cobalt\\Final\\250KEqr+50KPr+8x8x8\\100 GPa\\Cooling\\Old\\one_phase_cooling_press_1000000_3100_.txt\n",
      "E:\\Documents\\Research\\Molecular Dynamics\\Code\\GitHub\\LAMMPS\\Melting\\One Phase [Hystersis Method]\\Cobalt\\Final\\250KEqr+50KPr+8x8x8\\100 GPa\\Cooling\\Old\\one_phase_cooling_press_1000000_3200_.txt\n",
      "E:\\Documents\\Research\\Molecular Dynamics\\Code\\GitHub\\LAMMPS\\Melting\\One Phase [Hystersis Method]\\Cobalt\\Final\\250KEqr+50KPr+8x8x8\\100 GPa\\Cooling\\Old\\one_phase_cooling_press_1000000_3300_.txt\n",
      "E:\\Documents\\Research\\Molecular Dynamics\\Code\\GitHub\\LAMMPS\\Melting\\One Phase [Hystersis Method]\\Cobalt\\Final\\250KEqr+50KPr+8x8x8\\100 GPa\\Cooling\\Old\\one_phase_cooling_press_1000000_3400_.txt\n",
      "E:\\Documents\\Research\\Molecular Dynamics\\Code\\GitHub\\LAMMPS\\Melting\\One Phase [Hystersis Method]\\Cobalt\\Final\\250KEqr+50KPr+8x8x8\\100 GPa\\Cooling\\Old\\one_phase_cooling_press_1000000_3500_.txt\n",
      "E:\\Documents\\Research\\Molecular Dynamics\\Code\\GitHub\\LAMMPS\\Melting\\One Phase [Hystersis Method]\\Cobalt\\Final\\250KEqr+50KPr+8x8x8\\100 GPa\\Cooling\\Old\\one_phase_cooling_press_1000000_3600_.txt\n",
      "E:\\Documents\\Research\\Molecular Dynamics\\Code\\GitHub\\LAMMPS\\Melting\\One Phase [Hystersis Method]\\Cobalt\\Final\\250KEqr+50KPr+8x8x8\\100 GPa\\Cooling\\Old\\one_phase_cooling_press_1000000_2800___.txt\n",
      "E:\\Documents\\Research\\Molecular Dynamics\\Code\\GitHub\\LAMMPS\\Melting\\One Phase [Hystersis Method]\\Cobalt\\Final\\250KEqr+50KPr+8x8x8\\100 GPa\\Cooling\\Old\\one_phase_cooling_press_1000000_2800_300k.txt\n",
      "E:\\Documents\\Research\\Molecular Dynamics\\Code\\GitHub\\LAMMPS\\Melting\\One Phase [Hystersis Method]\\Cobalt\\Final\\250KEqr+50KPr+8x8x8\\100 GPa\\Cooling\\Old\\one_phase_cooling_press_1000000_2800_450k.txt\n",
      "E:\\Documents\\Research\\Molecular Dynamics\\Code\\GitHub\\LAMMPS\\Melting\\One Phase [Hystersis Method]\\Cobalt\\Final\\250KEqr+50KPr+8x8x8\\100 GPa\\Heating\\one_phase_heating_press_1000000_4700_.txt\n",
      "E:\\Documents\\Research\\Molecular Dynamics\\Code\\GitHub\\LAMMPS\\Melting\\One Phase [Hystersis Method]\\Cobalt\\Final\\250KEqr+50KPr+8x8x8\\100 GPa\\Heating\\one_phase_heating_press_1000000_4800_.txt\n",
      "E:\\Documents\\Research\\Molecular Dynamics\\Code\\GitHub\\LAMMPS\\Melting\\One Phase [Hystersis Method]\\Cobalt\\Final\\250KEqr+50KPr+8x8x8\\100 GPa\\Heating\\one_phase_heating_press_1000000_4900_.txt\n",
      "E:\\Documents\\Research\\Molecular Dynamics\\Code\\GitHub\\LAMMPS\\Melting\\One Phase [Hystersis Method]\\Cobalt\\Final\\250KEqr+50KPr+8x8x8\\100 GPa\\Heating\\one_phase_heating_press_1000000_4950_.txt\n",
      "E:\\Documents\\Research\\Molecular Dynamics\\Code\\GitHub\\LAMMPS\\Melting\\One Phase [Hystersis Method]\\Cobalt\\Final\\250KEqr+50KPr+8x8x8\\100 GPa\\Heating\\one_phase_heating_press_1000000_5000_.txt\n",
      "E:\\Documents\\Research\\Molecular Dynamics\\Code\\GitHub\\LAMMPS\\Melting\\One Phase [Hystersis Method]\\Cobalt\\Final\\250KEqr+50KPr+8x8x8\\100 GPa\\Heating\\one_phase_heating_press_1000000_5100_.txt\n",
      "E:\\Documents\\Research\\Molecular Dynamics\\Code\\GitHub\\LAMMPS\\Melting\\One Phase [Hystersis Method]\\Cobalt\\Final\\250KEqr+50KPr+8x8x8\\100 GPa\\Heating\\one_phase_heating_press_1000000_5200_.txt\n",
      "E:\\Documents\\Research\\Molecular Dynamics\\Code\\GitHub\\LAMMPS\\Melting\\One Phase [Hystersis Method]\\Cobalt\\Final\\250KEqr+50KPr+8x8x8\\100 GPa\\Heating\\one_phase_heating_press_1000000_5300_.txt\n",
      "E:\\Documents\\Research\\Molecular Dynamics\\Code\\GitHub\\LAMMPS\\Melting\\One Phase [Hystersis Method]\\Cobalt\\Final\\250KEqr+50KPr+8x8x8\\100 GPa\\Heating\\one_phase_heating_press_1000000_5400_.txt\n",
      "E:\\Documents\\Research\\Molecular Dynamics\\Code\\GitHub\\LAMMPS\\Melting\\One Phase [Hystersis Method]\\Cobalt\\Final\\250KEqr+50KPr+8x8x8\\100 GPa\\Heating\\one_phase_heating_press_1000000_4950_300k.txt\n"
     ]
    }
   ],
   "source": [
    "temp_heat = []; temp_cool =[]\n",
    "vol_heat = []; vol_cool = []\n",
    "# for dirpath, dirnames, filenames in sorted(os.walk(os.getcwd())):\n",
    "for dirpath, dirnames, filenames in sorted(os.walk(dir)):\n",
    "#     print(fil)\n",
    "    filenames.sort()\n",
    "    for file in sorted(filenames, key = len):\n",
    "            if file.endswith('.txt'):\n",
    "                print(os.path.join(dirpath, file))\n",
    "                df = pd.read_csv(os.path.join(dirpath, file), header=None, skiprows = 1, delimiter =\"\\s+\" , names = columns)\n",
    "                if file.startswith('one_phase_heating'):\n",
    "                    temp_heat.append(df.temp.mean())\n",
    "                    vol_heat.append(df.vol.mean())\n",
    "#                     display(df.describe())\n",
    "#                     plt.plot(df.step, df.temp, color =\"r\",label=df.temp.std())\n",
    "#                     plt.legend()\n",
    "#                     plt.show()\n",
    "                elif file.startswith('one_phase_cooling'):\n",
    "#                     print(file)\n",
    "#                     if file.startswith('cool'):\n",
    "                    df = pd.read_csv(os.path.join(dirpath, file), header=None, skiprows = 1,names = columns, delimiter =\"\\s+\")\n",
    "#                     if df.shape[1] == 8:\n",
    "#                         df.columns = columns\n",
    "#                     else: \n",
    "#                         df.columns = columns_\n",
    "                    temp_cool.append(df.temp.mean()) \n",
    "                    \n",
    "                    vol_cool.append(df.vol.mean())\n",
    "#                     plt.plot(df.step, df.temp, color =\"b\",label=df.temp.std())\n",
    "#                     plt.legend()\n",
    "#                     plt.show()\n",
    "#                     display(df.describe())\n",
    "# df_bcc = pd.read_csv(file_bcc, header=None, skiprows = 0, delimiter =\"\\s+\" , names = columns)\n",
    "# mn_row_fcc = df_fcc[df_fcc[\"Cohesive Energy\"]==df_fcc[\"Cohesive Energy\"].min()]\n",
    "# mn_row_bcc = df_bcc[df_bcc[\"Cohesive Energy\"]==df_bcc[\"Cohesive Energy\"].min()]\n",
    "\n",
    "# print(float(mn_row[\"a\"]))\n",
    "# print(df.loc[df[df[\"Cohesive Energy\"]==df[\"Cohesive Energy\"].min()].index][\"a\"])\n",
    "# cor = df.index.value()\n",
    "# print(cor)\n",
    "temp_heat.sort()\n",
    "temp_cool.sort()\n",
    "vol_heat.sort()\n",
    "vol_cool.sort()"
   ]
  },
  {
   "cell_type": "code",
   "execution_count": 634,
   "metadata": {},
   "outputs": [
    {
     "data": {
      "text/plain": [
       "(4696.200237420569, 18363.215380191792)"
      ]
     },
     "metadata": {},
     "output_type": "display_data"
    },
    {
     "data": {
      "text/plain": [
       "(4799.548743929836, 18391.616561441562)"
      ]
     },
     "metadata": {},
     "output_type": "display_data"
    },
    {
     "data": {
      "text/plain": [
       "(4921.9265165427705, 18432.23831246714)"
      ]
     },
     "metadata": {},
     "output_type": "display_data"
    },
    {
     "data": {
      "text/plain": [
       "(4943.161493543205, 18446.830486844105)"
      ]
     },
     "metadata": {},
     "output_type": "display_data"
    },
    {
     "data": {
      "text/plain": [
       "(4943.756358986081, 18455.255163448965)"
      ]
     },
     "metadata": {},
     "output_type": "display_data"
    },
    {
     "data": {
      "text/plain": [
       "(4987.216887956999, 18871.063275411834)"
      ]
     },
     "metadata": {},
     "output_type": "display_data"
    },
    {
     "data": {
      "text/plain": [
       "(5089.0132309245655, 18897.49019058704)"
      ]
     },
     "metadata": {},
     "output_type": "display_data"
    },
    {
     "data": {
      "text/plain": [
       "(5201.756679096771, 18933.484142720015)"
      ]
     },
     "metadata": {},
     "output_type": "display_data"
    },
    {
     "data": {
      "text/plain": [
       "(5312.345608365091, 18953.64324477033)"
      ]
     },
     "metadata": {},
     "output_type": "display_data"
    },
    {
     "data": {
      "text/plain": [
       "(5420.325016298265, 18988.870187759923)"
      ]
     },
     "metadata": {},
     "output_type": "display_data"
    }
   ],
   "source": [
    "display(*zip(temp_heat,vol_heat))\n"
   ]
  },
  {
   "cell_type": "code",
   "execution_count": 635,
   "metadata": {},
   "outputs": [
    {
     "data": {
      "text/plain": [
       "(2791.6813606639193, 17922.87705869641)"
      ]
     },
     "metadata": {},
     "output_type": "display_data"
    },
    {
     "data": {
      "text/plain": [
       "(2800.8788953715725, 17923.689569201273)"
      ]
     },
     "metadata": {},
     "output_type": "display_data"
    },
    {
     "data": {
      "text/plain": [
       "(2812.5890511001585, 17938.514275525355)"
      ]
     },
     "metadata": {},
     "output_type": "display_data"
    },
    {
     "data": {
      "text/plain": [
       "(2846.074430888655, 18202.633839518283)"
      ]
     },
     "metadata": {},
     "output_type": "display_data"
    },
    {
     "data": {
      "text/plain": [
       "(2894.0859667715695, 18219.573046845177)"
      ]
     },
     "metadata": {},
     "output_type": "display_data"
    },
    {
     "data": {
      "text/plain": [
       "(3001.4093226415234, 18237.946269415115)"
      ]
     },
     "metadata": {},
     "output_type": "display_data"
    },
    {
     "data": {
      "text/plain": [
       "(3098.1628301065048, 18280.533318040554)"
      ]
     },
     "metadata": {},
     "output_type": "display_data"
    },
    {
     "data": {
      "text/plain": [
       "(3199.3809916955024, 18318.20918007655)"
      ]
     },
     "metadata": {},
     "output_type": "display_data"
    },
    {
     "data": {
      "text/plain": [
       "(3304.1058627900843, 18345.327740724148)"
      ]
     },
     "metadata": {},
     "output_type": "display_data"
    },
    {
     "data": {
      "text/plain": [
       "(3409.078330894273, 18387.82620664518)"
      ]
     },
     "metadata": {},
     "output_type": "display_data"
    },
    {
     "data": {
      "text/plain": [
       "(3495.60412928737, 18407.8464781508)"
      ]
     },
     "metadata": {},
     "output_type": "display_data"
    },
    {
     "data": {
      "text/plain": [
       "(3594.898823270622, 18444.933965635046)"
      ]
     },
     "metadata": {},
     "output_type": "display_data"
    }
   ],
   "source": [
    "display(*zip(temp_cool,vol_cool))"
   ]
  },
  {
   "cell_type": "code",
   "execution_count": 636,
   "metadata": {
    "scrolled": false
   },
   "outputs": [
    {
     "data": {
      "image/png": "[encoded data removed]",
      "text/plain": [
       "<Figure size 849.6x504 with 1 Axes>"
      ]
     },
     "metadata": {},
     "output_type": "display_data"
    }
   ],
   "source": [
    "# temp.sort()\n",
    "# vol.sort()\n",
    "# %pylab\n",
    "# print(temp)\n",
    "sh = 4944; sc = 2800\n",
    "# melting= sh*sc-(sh*sc)**0.5\n",
    "plt.plot(temp_heat, vol_heat, color =\"r\", marker =\"^\", label=f\"Heating [SH = {sh} K]\")\n",
    "plt.plot(temp_cool, vol_cool, color =\"b\", marker =\"s\",label=f\"Cooling [SC = {sc} K]\")\n",
    "# plt.xlim([0,2800])\n",
    "plt.title(f'Melting Temperature of Co={round(sh+sc-(sh*sc)**0.5,0)} K at 100 GPa')\n",
    "# # plt.title(f'$\\mu_P={df.iloc[df[\"Cohesive Energy\"]][\"a\"]},E_c={df[\"Cohesive Energy\"]}$')\n",
    "# plt.xticks(range(0,2800,250),rotation=90)\n",
    "plt.xticks(range(0,5500,250))\n",
    "plt.ylabel(\"Volume (A$^3)$\")\n",
    "plt.xlabel(\"Temperature (K)\")\n",
    "# plt.tight_layout()\n",
    "plt.legend()\n",
    "\n",
    "# plt.annotate()\n",
    "# plt.annotate()\n",
    "# # plt.xticks(rotation=90)\n",
    "# plt.annotate(r'T$_-= 1249 \\;$K', xy=(1245, 24950),xytext=(700, 25800),color=\"black\",\n",
    "#             arrowprops=dict(arrowstyle=\"fancy\",\n",
    "# #                              ec=\"none\",\n",
    "# #                             patchB=el,\n",
    "#                             connectionstyle=\"angle3,angleA=0,angleB=-90\",color=\"b\"));\n",
    "# plt.annotate(r'T$_+=2102 \\;$K', xy=(2100, 25180),xytext=(2250, 24100),color=\"black\",\n",
    "#             arrowprops=dict(arrowstyle=\"fancy\",\n",
    "# #                              ec=\"none\",\n",
    "# #                             patchB=el,\n",
    "#                             connectionstyle=\"angle3,angleA=0,angleB=-90\",color=\"r\"));\n",
    "# mplcursors.cursor(hover=True)\n",
    "plt.savefig(\"onephase_volume.png\",dpi=110)\n",
    "plt.show()"
   ]
  },
  {
   "cell_type": "code",
   "execution_count": 637,
   "metadata": {},
   "outputs": [],
   "source": [
    "#  \tstep \ttemp \tpress \tvol \tke \tpe \tdensity\n",
    "# count \t1.010000e+02 \t101.000000 \t101.000000 \t101.000000 \t101.000000 \t101.000000 \t101.000000\n",
    "# mean \t4.100000e+06 \t1302.393436 \t-183.712991 \t8987.367005 \t115.318082 \t-2796.943455 \t5.430793\n",
    "# std \t2.930017e+04 \t40.154300 \t5236.967495 \t48.009311 \t3.555390 \t5.238488 \t0.029002\n",
    "# min \t4.050000e+06 \t1218.653332 \t-14633.214207 \t8869.623325 \t107.903465 \t-2811.858675 \t5.355323\n",
    "# 25% \t4.075000e+06 \t1267.681441 \t-3996.367876 \t8956.064004 \t112.244570 \t-2800.528772 \t5.409587\n",
    "# 50% \t4.100000e+06 \t1308.265188 \t712.416964 \t8983.987137 \t115.837985 \t-2798.144637 \t5.432683\n",
    "# 75% \t4.125000e+06 \t1328.003546 \t3406.694788 \t9022.342655 \t117.585683 \t-2792.967146 \t5.449621\n",
    "# max \t4.150000e+06 \t1397.815601 \t13368.865296 \t9113.764764 \t123.767065 \t-2783.157257 \t5.502731"
   ]
  },
  {
   "cell_type": "code",
   "execution_count": 638,
   "metadata": {},
   "outputs": [
    {
     "data": {
      "text/plain": [
       "(3102.151625105469, 23810.586597928883)"
      ]
     },
     "execution_count": 638,
     "metadata": {},
     "output_type": "execute_result"
    }
   ],
   "source": [
    "(2601.617426072961, 22592.944004857185)\n",
    "\n",
    "(2699.550422601041, 22682.894164336045)\n",
    "\n",
    "(2804.905349943148, 22790.31990384035)\n",
    "\n",
    "(2808.214883983429, 22794.66808503814)\n",
    "\n",
    "(2890.194341375944, 23620.014929117762)\n",
    "\n",
    "(3005.070150109098, 23739.085295388057)\n",
    "\n",
    "(3102.151625105469, 23810.586597928883)"
   ]
  },
  {
   "cell_type": "code",
   "execution_count": null,
   "metadata": {},
   "outputs": [],
   "source": []
  },
  {
   "cell_type": "code",
   "execution_count": null,
   "metadata": {},
   "outputs": [],
   "source": []
  }
 ],
 "metadata": {
  "kernelspec": {
   "display_name": "Python 3.8.1",
   "language": "python",
   "name": "python38164bit7fa70e9160ed44389282474b5725742a"
  },
  "language_info": {
   "codemirror_mode": {
    "name": "ipython",
    "version": 3
   },
   "file_extension": ".py",
   "mimetype": "text/x-python",
   "name": "python",
   "nbconvert_exporter": "python",
   "pygments_lexer": "ipython3",
   "version": "3.8.3"
  }
 },
 "nbformat": 4,
 "nbformat_minor": 4
}
